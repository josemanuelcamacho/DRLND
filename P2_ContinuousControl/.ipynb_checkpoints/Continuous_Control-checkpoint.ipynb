{
 "cells": [
  {
   "cell_type": "markdown",
   "metadata": {},
   "source": [
    "# Continuous Control\n",
    "\n",
    "---\n",
    "\n",
    "You are welcome to use this coding environment to train your agent for the project.  Follow the instructions below to get started!\n",
    "\n",
    "### 1. Start the Environment\n",
    "\n",
    "Run the next code cell to install a few packages.  This line will take a few minutes to run!"
   ]
  },
  {
   "cell_type": "code",
   "execution_count": 1,
   "metadata": {
    "scrolled": true
   },
   "outputs": [
    {
     "name": "stdout",
     "output_type": "stream",
     "text": [
      "\u001b[31mtensorflow 1.7.1 has requirement numpy>=1.13.3, but you'll have numpy 1.12.1 which is incompatible.\u001b[0m\r\n",
      "\u001b[31mipython 6.5.0 has requirement prompt-toolkit<2.0.0,>=1.0.15, but you'll have prompt-toolkit 3.0.5 which is incompatible.\u001b[0m\r\n"
     ]
    }
   ],
   "source": [
    "#!pip -q install ./python"
   ]
  },
  {
   "cell_type": "markdown",
   "metadata": {},
   "source": [
    "The environments corresponding to both versions of the environment are already saved in the Workspace and can be accessed at the file paths provided below.  \n",
    "\n",
    "Please select one of the two options below for loading the environment."
   ]
  },
  {
   "cell_type": "code",
   "execution_count": 2,
   "metadata": {},
   "outputs": [
    {
     "name": "stderr",
     "output_type": "stream",
     "text": [
      "INFO:unityagents:\n",
      "'Academy' started successfully!\n",
      "Unity Academy name: Academy\n",
      "        Number of Brains: 1\n",
      "        Number of External Brains : 1\n",
      "        Lesson number : 0\n",
      "        Reset Parameters :\n",
      "\t\tgoal_size -> 5.0\n",
      "\t\tgoal_speed -> 1.0\n",
      "Unity brain name: ReacherBrain\n",
      "        Number of Visual Observations (per agent): 0\n",
      "        Vector Observation space type: continuous\n",
      "        Vector Observation space size (per agent): 33\n",
      "        Number of stacked Vector Observation: 1\n",
      "        Vector Action space type: continuous\n",
      "        Vector Action space size (per agent): 4\n",
      "        Vector Action descriptions: , , , \n"
     ]
    }
   ],
   "source": [
    "from unityagents import UnityEnvironment\n",
    "import numpy as np\n",
    "\n",
    "# select this option to load version 1 (with a single agent) of the environment\n",
    "#env = UnityEnvironment(file_name='/data/Reacher_One_Linux_NoVis/Reacher_One_Linux_NoVis.x86_64')\n",
    "env = UnityEnvironment(file_name='./Reacher_20.app')\n",
    "# select this option to load version 2 (with 20 agents) of the environment\n",
    "# env = UnityEnvironment(file_name='/data/Reacher_Linux_NoVis/Reacher.x86_64')"
   ]
  },
  {
   "cell_type": "markdown",
   "metadata": {},
   "source": [
    "Environments contain **_brains_** which are responsible for deciding the actions of their associated agents. Here we check for the first brain available, and set it as the default brain we will be controlling from Python."
   ]
  },
  {
   "cell_type": "code",
   "execution_count": 3,
   "metadata": {},
   "outputs": [],
   "source": [
    "# get the default brain\n",
    "brain_name = env.brain_names[0]\n",
    "brain = env.brains[brain_name]"
   ]
  },
  {
   "cell_type": "markdown",
   "metadata": {},
   "source": [
    "### 2. Examine the State and Action Spaces\n",
    "\n",
    "Run the code cell below to print some information about the environment."
   ]
  },
  {
   "cell_type": "code",
   "execution_count": 4,
   "metadata": {},
   "outputs": [
    {
     "name": "stdout",
     "output_type": "stream",
     "text": [
      "Number of agents: 1\n",
      "Size of each action: 4\n",
      "There are 1 agents. Each observes a state with length: 33\n",
      "The state for the first agent looks like: [  0.00000000e+00  -4.00000000e+00   0.00000000e+00   1.00000000e+00\n",
      "  -0.00000000e+00  -0.00000000e+00  -4.37113883e-08   0.00000000e+00\n",
      "   0.00000000e+00   0.00000000e+00   0.00000000e+00   0.00000000e+00\n",
      "   0.00000000e+00   0.00000000e+00  -1.00000000e+01   0.00000000e+00\n",
      "   1.00000000e+00  -0.00000000e+00  -0.00000000e+00  -4.37113883e-08\n",
      "   0.00000000e+00   0.00000000e+00   0.00000000e+00   0.00000000e+00\n",
      "   0.00000000e+00   0.00000000e+00   5.75471878e+00  -1.00000000e+00\n",
      "   5.55726671e+00   0.00000000e+00   1.00000000e+00   0.00000000e+00\n",
      "  -1.68164849e-01]\n"
     ]
    }
   ],
   "source": [
    "# reset the environment\n",
    "env_info = env.reset(train_mode=True)[brain_name]\n",
    "\n",
    "# number of agents\n",
    "num_agents = len(env_info.agents)\n",
    "print('Number of agents:', num_agents)\n",
    "\n",
    "# size of each action\n",
    "action_size = brain.vector_action_space_size\n",
    "print('Size of each action:', action_size)\n",
    "\n",
    "# examine the state space \n",
    "states = env_info.vector_observations\n",
    "state_size = states.shape[1]\n",
    "print('There are {} agents. Each observes a state with length: {}'.format(states.shape[0], state_size))\n",
    "print('The state for the first agent looks like:', states[0])"
   ]
  },
  {
   "cell_type": "markdown",
   "metadata": {},
   "source": [
    "### 3. Take Random Actions in the Environment\n",
    "\n",
    "In the next code cell, you will learn how to use the Python API to control the agent and receive feedback from the environment.\n",
    "\n",
    "Note that **in this coding environment, you will not be able to watch the agents while they are training**, and you should set `train_mode=True` to restart the environment."
   ]
  },
  {
   "cell_type": "code",
   "execution_count": null,
   "metadata": {},
   "outputs": [],
   "source": [
    "env_info = env.reset(train_mode=True)[brain_name]      # reset the environment    \n",
    "states = env_info.vector_observations                  # get the current state (for each agent)\n",
    "scores = np.zeros(num_agents)                          # initialize the score (for each agent)\n",
    "while True:\n",
    "    actions = np.random.randn(num_agents, action_size) # select an action (for each agent)\n",
    "    actions = np.clip(actions, -1, 1)                  # all actions between -1 and 1\n",
    "    env_info = env.step(actions)[brain_name]           # send all actions to tne environment\n",
    "    next_states = env_info.vector_observations         # get next state (for each agent)\n",
    "    rewards = env_info.rewards                         # get reward (for each agent)\n",
    "    dones = env_info.local_done                        # see if episode finished\n",
    "    scores += env_info.rewards                         # update the score (for each agent)\n",
    "    states = next_states                               # roll over states to next time step\n",
    "    if np.any(dones):                                  # exit loop if episode finished\n",
    "        break\n",
    "print('Total score (averaged over agents) this episode: {}'.format(np.mean(scores)))"
   ]
  },
  {
   "cell_type": "markdown",
   "metadata": {},
   "source": [
    "When finished, you can close the environment."
   ]
  },
  {
   "cell_type": "code",
   "execution_count": null,
   "metadata": {},
   "outputs": [],
   "source": [
    "env.close()"
   ]
  },
  {
   "cell_type": "markdown",
   "metadata": {},
   "source": [
    "### 4. It's Your Turn!\n",
    "\n",
    "Now it's your turn to train your own agent to solve the environment!  A few **important notes**:\n",
    "- When training the environment, set `train_mode=True`, so that the line for resetting the environment looks like the following:\n",
    "```python\n",
    "env_info = env.reset(train_mode=True)[brain_name]\n",
    "```\n",
    "- To structure your work, you're welcome to work directly in this Jupyter notebook, or you might like to start over with a new file!  You can see the list of files in the workspace by clicking on **_Jupyter_** in the top left corner of the notebook.\n",
    "- In this coding environment, you will not be able to watch the agents while they are training.  However, **_after training the agents_**, you can download the saved model weights to watch the agents on your own machine! "
   ]
  },
  {
   "cell_type": "code",
   "execution_count": 5,
   "metadata": {},
   "outputs": [],
   "source": [
    "import random\n",
    "import torch\n",
    "import numpy as np\n",
    "from collections import deque\n",
    "import matplotlib.pyplot as plt\n",
    "%matplotlib inline\n",
    "\n",
    "from ddpg_agent import Agent"
   ]
  },
  {
   "cell_type": "code",
   "execution_count": 6,
   "metadata": {},
   "outputs": [],
   "source": [
    "#agent = Agent(state_size=3*state_size, action_size=action_size, random_seed=10)\n",
    "agent = Agent(state_size=2*state_size, action_size=action_size, random_seed=10)"
   ]
  },
  {
   "cell_type": "code",
   "execution_count": null,
   "metadata": {
    "scrolled": true
   },
   "outputs": [
    {
     "name": "stdout",
     "output_type": "stream",
     "text": [
      "Episode 20\tAverage Score: 0.32\tScore: 0.58\n",
      "Episode 40\tAverage Score: 0.85\tScore: 1.01\n",
      "Episode 60\tAverage Score: 1.05\tScore: 3.26\n",
      "Episode 80\tAverage Score: 1.12\tScore: 0.78\n",
      "Episode 100\tAverage Score: 1.22\tScore: 1.53\n",
      "Episode 120\tAverage Score: 1.60\tScore: 1.91\n",
      "Episode 140\tAverage Score: 1.88\tScore: 2.05\n",
      "Episode 160\tAverage Score: 2.29\tScore: 4.31\n",
      "Episode 180\tAverage Score: 2.73\tScore: 4.28\n",
      "Episode 200\tAverage Score: 3.50\tScore: 4.02\n",
      "Episode 220\tAverage Score: 4.33\tScore: 5.82\n",
      "Episode 240\tAverage Score: 5.28\tScore: 3.362\n",
      "Episode 260\tAverage Score: 6.12\tScore: 7.724\n",
      "Episode 280\tAverage Score: 7.09\tScore: 12.69\n",
      "Episode 300\tAverage Score: 8.25\tScore: 9.994\n",
      "Episode 320\tAverage Score: 9.55\tScore: 19.62\n",
      "Episode 340\tAverage Score: 10.50\tScore: 14.91\n",
      "Episode 360\tAverage Score: 11.56\tScore: 14.18\n",
      "Episode 380\tAverage Score: 13.34\tScore: 19.97\n",
      "Episode 400\tAverage Score: 13.85\tScore: 18.09\n",
      "Episode 420\tAverage Score: 14.55\tScore: 11.17\n",
      "Episode 440\tAverage Score: 15.14\tScore: 14.74\n",
      "Episode 460\tAverage Score: 16.05\tScore: 14.61\n",
      "Episode 480\tAverage Score: 16.73\tScore: 39.31\n",
      "Episode 500\tAverage Score: 17.76\tScore: 21.57\n",
      "Episode 520\tAverage Score: 19.17\tScore: 28.44\n",
      "Episode 540\tAverage Score: 20.78\tScore: 27.81\n",
      "Episode 560\tAverage Score: 22.18\tScore: 16.90\n",
      "Episode 580\tAverage Score: 23.02\tScore: 31.32\n",
      "Episode 600\tAverage Score: 24.22\tScore: 25.58\n",
      "Episode 620\tAverage Score: 24.69\tScore: 30.79\n",
      "Episode 640\tAverage Score: 25.10\tScore: 19.74\n",
      "Episode 660\tAverage Score: 25.49\tScore: 25.29\n",
      "Episode 680\tAverage Score: 25.82\tScore: 23.47\n",
      "Episode 700\tAverage Score: 26.01\tScore: 31.68\n",
      "Episode 720\tAverage Score: 26.11\tScore: 25.25\n",
      "Episode 740\tAverage Score: 26.15\tScore: 13.54\n",
      "Episode 760\tAverage Score: 25.88\tScore: 26.70\n",
      "Episode 780\tAverage Score: 25.76\tScore: 28.97\n",
      "Episode 800\tAverage Score: 25.82\tScore: 27.56\n",
      "Episode 820\tAverage Score: 25.88\tScore: 26.94\n",
      "Episode 840\tAverage Score: 26.38\tScore: 31.28\n",
      "Episode 860\tAverage Score: 27.16\tScore: 33.95\n",
      "Episode 880\tAverage Score: 27.47\tScore: 35.87\n",
      "Episode 900\tAverage Score: 28.02\tScore: 38.89\n",
      "Episode 920\tAverage Score: 28.32\tScore: 23.03\n",
      "Episode 940\tAverage Score: 28.65\tScore: 27.39\n",
      "Episode 960\tAverage Score: 28.56\tScore: 30.02\n",
      "Episode 980\tAverage Score: 29.14\tScore: 31.49\n",
      "Episode 1000\tAverage Score: 29.38\tScore: 35.65\n",
      "Episode 1020\tAverage Score: 29.75\tScore: 35.55\n",
      "Episode 1040\tAverage Score: 29.87\tScore: 34.93\n",
      "Episode 1060\tAverage Score: 30.43\tScore: 32.34\n",
      "Episode 1080\tAverage Score: 30.51\tScore: 31.97\n",
      "Episode 1100\tAverage Score: 30.64\tScore: 25.57\n",
      "Episode 1120\tAverage Score: 31.09\tScore: 29.60\n",
      "Episode 1140\tAverage Score: 31.33\tScore: 23.62\n",
      "Episode 1160\tAverage Score: 31.30\tScore: 31.14\n",
      "Episode 1180\tAverage Score: 31.62\tScore: 31.73\n",
      "Episode 1200\tAverage Score: 32.23\tScore: 27.27\n",
      "Episode 1220\tAverage Score: 32.48\tScore: 34.90\n",
      "Episode 1240\tAverage Score: 32.78\tScore: 28.00\n",
      "Episode 1260\tAverage Score: 33.12\tScore: 28.89\n",
      "Episode 1280\tAverage Score: 32.76\tScore: 35.75\n",
      "Episode 1300\tAverage Score: 32.37\tScore: 36.91\n",
      "Episode 1320\tAverage Score: 32.52\tScore: 34.13\n",
      "Episode 1340\tAverage Score: 32.69\tScore: 31.01\n",
      "Episode 1360\tAverage Score: 32.88\tScore: 33.86\n",
      "Episode 1380\tAverage Score: 33.49\tScore: 34.85\n",
      "Episode 1387\tAverage Score: 33.84\tScore: 36.19"
     ]
    }
   ],
   "source": [
    "def ddpg2(n_episodes=2000, max_t=5000):\n",
    "    scores_deque = deque(maxlen=100)\n",
    "    scores_overall = []\n",
    "    max_score = -np.Inf\n",
    "    for i_episode in range(1, n_episodes+1):\n",
    "        env_info = env.reset(train_mode=True)[brain_name]     # reset the environment    \n",
    "        states = env_info.vector_observations                  # get the current state (for each agent)\n",
    "        prev_states = np.zeros(states.shape)                  # get the current state (for each agent)\n",
    "        #prev_prev_states = np.zeros(states.shape)                  # get the current state (for each agent)\n",
    "        scores = np.zeros(num_agents)                          # initialize the score (for each agent)\n",
    "\n",
    "        for t in range(max_t):\n",
    "            #actions = np.apply_along_axis(agent.act, 1, np.concatenate((states, prev_states, prev_prev_states), axis=1), t)\n",
    "            #actions = np.apply_along_axis(agent.act, 1, np.concatenate((states, prev_states), axis=1), t)\n",
    "            actions = agent.act(np.concatenate((states, prev_states), axis=1), t)\n",
    "            actions = np.clip(actions, -1, 1)                  # all actions between -1 and 1\n",
    "            env_info = env.step(actions)[brain_name]           # send all actions to tne environment\n",
    "            next_states = env_info.vector_observations         # get next state (for each agent)\n",
    "            rewards = env_info.rewards                         # get reward (for each agent)\n",
    "            dones = env_info.local_done                        # see if episode finished\n",
    "            for ag in range(actions.shape[0]):\n",
    "                #agent.step(np.concatenate((states[ag], prev_states[ag], prev_prev_states[ag]), axis=0), actions[ag], rewards[ag], np.concatenate((next_states[ag], states[ag], prev_states[ag]), axis=0), dones[ag], t, ag)                    \n",
    "                agent.step(np.concatenate((states[ag], prev_states[ag]), axis=0), actions[ag], rewards[ag], np.concatenate((next_states[ag], states[ag]), axis=0), dones[ag], t, ag)                    \n",
    "            scores += env_info.rewards                         # update the score (for each agent)\n",
    "            #prev_prev_state = prev_states\n",
    "            prev_states = states\n",
    "            states = next_states                               # roll over states to next time step\n",
    "            if np.any(dones):                                  # exit loop if episode finished\n",
    "                break\n",
    "\n",
    "\n",
    "        scores_deque.append(np.mean(scores))\n",
    "        scores_overall.append(np.mean(scores))\n",
    "        print('\\rEpisode {}\\tAverage Score: {:.2f}\\tScore: {:.2f}'.format(i_episode, np.mean(scores_deque), np.mean(scores)), end=\"\") \n",
    "        if i_episode % 20 == 0:\n",
    "            torch.save(agent.actor_local.state_dict(), 'checkpoint_actor.pth')\n",
    "            torch.save(agent.critic_local.state_dict(), 'checkpoint_critic.pth')\n",
    "            print('\\rEpisode {}\\tAverage Score: {:.2f}'.format(i_episode, np.mean(scores_deque)))   \n",
    "    return scores_overall\n",
    "\n",
    "scores = ddpg2()\n",
    "\n",
    "fig = plt.figure()\n",
    "ax = fig.add_subplot(111)\n",
    "plt.plot(np.arange(1, len(scores)+1), scores)\n",
    "plt.ylabel('Score')\n",
    "plt.xlabel('Episode #')\n",
    "plt.show()"
   ]
  },
  {
   "cell_type": "code",
   "execution_count": null,
   "metadata": {},
   "outputs": [],
   "source": []
  },
  {
   "cell_type": "markdown",
   "metadata": {},
   "source": [
    "### 5. Play Best Agent"
   ]
  },
  {
   "cell_type": "code",
   "execution_count": null,
   "metadata": {},
   "outputs": [],
   "source": [
    "import random\n",
    "import torch\n",
    "import numpy as np\n",
    "from collections import deque\n",
    "import matplotlib.pyplot as plt\n",
    "%matplotlib inline\n",
    "\n",
    "from ddpg_agent import Agent"
   ]
  },
  {
   "cell_type": "code",
   "execution_count": null,
   "metadata": {},
   "outputs": [],
   "source": [
    "agent = Agent(state_size=2*state_size, action_size=action_size, random_seed=10)\n",
    "agent.actor_local.load_state_dict(torch.load('checkpoint_actor-33.93.pth', map_location={'cuda:0': 'cpu'}))\n",
    "agent.critic_local.load_state_dict(torch.load('checkpoint_critic-33.93.pth', map_location={'cuda:0': 'cpu'}))"
   ]
  },
  {
   "cell_type": "code",
   "execution_count": null,
   "metadata": {},
   "outputs": [],
   "source": [
    "env_info = env.reset(train_mode=False)[brain_name]      # reset the environment    \n",
    "states = env_info.vector_observations                  # get the current state (for each agent)\n",
    "scores = np.zeros(num_agents)                          # initialize the score (for each agent)\n",
    "prev_states = np.zeros(states.shape)\n",
    "\n",
    "while True:\n",
    "    actions = agent.act(np.concatenate((states, prev_states), axis=1), 0) # select an action (for each agent)\n",
    "    actions = np.clip(actions, -1, 1)                  # all actions between -1 and 1\n",
    "    env_info = env.step(actions)[brain_name]           # send all actions to tne environment\n",
    "    next_states = env_info.vector_observations         # get next state (for each agent)\n",
    "    rewards = env_info.rewards                         # get reward (for each agent)\n",
    "    dones = env_info.local_done                        # see if episode finished\n",
    "    scores += env_info.rewards                         # update the score (for each agent)\n",
    "    prev_states = states\n",
    "    states = next_states                               # roll over states to next time step\n",
    "    if np.any(dones):                                  # exit loop if episode finished\n",
    "        break\n",
    "print('Total score (averaged over agents) this episode: {}'.format(np.mean(scores)))"
   ]
  },
  {
   "cell_type": "code",
   "execution_count": null,
   "metadata": {},
   "outputs": [],
   "source": [
    "env.close()"
   ]
  },
  {
   "cell_type": "code",
   "execution_count": null,
   "metadata": {},
   "outputs": [],
   "source": []
  }
 ],
 "metadata": {
  "kernelspec": {
   "display_name": "Python 3",
   "language": "python",
   "name": "python3"
  },
  "language_info": {
   "codemirror_mode": {
    "name": "ipython",
    "version": 3
   },
   "file_extension": ".py",
   "mimetype": "text/x-python",
   "name": "python",
   "nbconvert_exporter": "python",
   "pygments_lexer": "ipython3",
   "version": "3.6.10"
  }
 },
 "nbformat": 4,
 "nbformat_minor": 2
}
